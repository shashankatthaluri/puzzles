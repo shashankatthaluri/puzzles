{
  "metadata": {
    "language_info": {
      "codemirror_mode": {
        "name": "python",
        "version": 3
      },
      "file_extension": ".py",
      "mimetype": "text/x-python",
      "name": "python",
      "nbconvert_exporter": "python",
      "pygments_lexer": "ipython3",
      "version": "3.8"
    },
    "kernelspec": {
      "name": "python",
      "display_name": "Python (Pyodide)",
      "language": "python"
    }
  },
  "nbformat_minor": 4,
  "nbformat": 4,
  "cells": [
    {
      "cell_type": "code",
      "source": "import math\nn = 10 # total number of people in a circle\nK = 3 # Position who initiates the game. K must be less than n. \ndef highestPowerof2(n):\n    p = int(math.log(n, 2));\n    return int(pow(2, p));\nl = highestPowerof2(n) #nearest power of 2 to the total and l <= n.\nr = 2*(n-l) + K\nif r > n:\n    rr = r - n\n    print (rr)\nelse:\n    print(r)",
      "metadata": {
        "trusted": true
      },
      "execution_count": 12,
      "outputs": [
        {
          "name": "stdout",
          "text": "7\n",
          "output_type": "stream"
        }
      ]
    },
    {
      "cell_type": "code",
      "source": "",
      "metadata": {},
      "execution_count": null,
      "outputs": []
    }
  ]
}